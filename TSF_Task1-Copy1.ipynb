{
 "cells": [
  {
   "cell_type": "markdown",
   "id": "14a676cd",
   "metadata": {},
   "source": [
    "## Data Science and Business Analytics "
   ]
  },
  {
   "cell_type": "markdown",
   "id": "b02a53d5",
   "metadata": {},
   "source": [
    "## Task 1 : Prediction using Supervised Machine Learning "
   ]
  },
  {
   "cell_type": "markdown",
   "id": "48774cba",
   "metadata": {},
   "source": [
    "### Problem Statement: To predict the percentage of a student on basis of number of study hours"
   ]
  },
  {
   "cell_type": "markdown",
   "id": "3be248f1",
   "metadata": {},
   "source": [
    "### What will be the  predicted score if a student studies 9.25 hours a day? "
   ]
  },
  {
   "cell_type": "markdown",
   "id": "723fbb56",
   "metadata": {},
   "source": [
    "### Author: Siddharth Apte "
   ]
  },
  {
   "cell_type": "code",
   "execution_count": 6,
   "id": "f83d2467",
   "metadata": {},
   "outputs": [],
   "source": [
    "import pandas as pd\n",
    "import numpy as py \n",
    "import matplotlib.pyplot as plt\n",
    "import seaborn as sns \n",
    "%matplotlib inline "
   ]
  },
  {
   "cell_type": "markdown",
   "id": "73c4ca04",
   "metadata": {},
   "source": [
    "### Reading the data"
   ]
  },
  {
   "cell_type": "code",
   "execution_count": 7,
   "id": "8c2fffdc",
   "metadata": {},
   "outputs": [
    {
     "name": "stdout",
     "output_type": "stream",
     "text": [
      "   Hours  Scores\n",
      "0    2.5      21\n",
      "1    5.1      47\n",
      "2    3.2      27\n",
      "3    8.5      75\n",
      "4    3.5      30\n",
      "5    1.5      20\n",
      "6    9.2      88\n",
      "7    5.5      60\n",
      "8    8.3      81\n",
      "9    2.7      25\n",
      "\n",
      " Data imported successfully\n"
     ]
    }
   ],
   "source": [
    "url = 'http://bit.ly/w-data'\n",
    "data = pd.read_csv(url)\n",
    "\n",
    "print(data.head(10))\n",
    "print('\\n Data imported successfully')"
   ]
  },
  {
   "cell_type": "code",
   "execution_count": 8,
   "id": "0e77cb10",
   "metadata": {},
   "outputs": [
    {
     "data": {
      "text/plain": [
       "(25, 2)"
      ]
     },
     "execution_count": 8,
     "metadata": {},
     "output_type": "execute_result"
    }
   ],
   "source": [
    "data.shape"
   ]
  },
  {
   "cell_type": "markdown",
   "id": "173d4101",
   "metadata": {},
   "source": [
    "Hence, our data contains a total of 25 entries across two colums (scores and study hours)"
   ]
  },
  {
   "cell_type": "code",
   "execution_count": 9,
   "id": "3443f176",
   "metadata": {},
   "outputs": [
    {
     "data": {
      "text/html": [
       "<div>\n",
       "<style scoped>\n",
       "    .dataframe tbody tr th:only-of-type {\n",
       "        vertical-align: middle;\n",
       "    }\n",
       "\n",
       "    .dataframe tbody tr th {\n",
       "        vertical-align: top;\n",
       "    }\n",
       "\n",
       "    .dataframe thead th {\n",
       "        text-align: right;\n",
       "    }\n",
       "</style>\n",
       "<table border=\"1\" class=\"dataframe\">\n",
       "  <thead>\n",
       "    <tr style=\"text-align: right;\">\n",
       "      <th></th>\n",
       "      <th>Hours</th>\n",
       "      <th>Scores</th>\n",
       "    </tr>\n",
       "  </thead>\n",
       "  <tbody>\n",
       "    <tr>\n",
       "      <th>count</th>\n",
       "      <td>25.000000</td>\n",
       "      <td>25.000000</td>\n",
       "    </tr>\n",
       "    <tr>\n",
       "      <th>mean</th>\n",
       "      <td>5.012000</td>\n",
       "      <td>51.480000</td>\n",
       "    </tr>\n",
       "    <tr>\n",
       "      <th>std</th>\n",
       "      <td>2.525094</td>\n",
       "      <td>25.286887</td>\n",
       "    </tr>\n",
       "    <tr>\n",
       "      <th>min</th>\n",
       "      <td>1.100000</td>\n",
       "      <td>17.000000</td>\n",
       "    </tr>\n",
       "    <tr>\n",
       "      <th>25%</th>\n",
       "      <td>2.700000</td>\n",
       "      <td>30.000000</td>\n",
       "    </tr>\n",
       "    <tr>\n",
       "      <th>50%</th>\n",
       "      <td>4.800000</td>\n",
       "      <td>47.000000</td>\n",
       "    </tr>\n",
       "    <tr>\n",
       "      <th>75%</th>\n",
       "      <td>7.400000</td>\n",
       "      <td>75.000000</td>\n",
       "    </tr>\n",
       "    <tr>\n",
       "      <th>max</th>\n",
       "      <td>9.200000</td>\n",
       "      <td>95.000000</td>\n",
       "    </tr>\n",
       "  </tbody>\n",
       "</table>\n",
       "</div>"
      ],
      "text/plain": [
       "           Hours     Scores\n",
       "count  25.000000  25.000000\n",
       "mean    5.012000  51.480000\n",
       "std     2.525094  25.286887\n",
       "min     1.100000  17.000000\n",
       "25%     2.700000  30.000000\n",
       "50%     4.800000  47.000000\n",
       "75%     7.400000  75.000000\n",
       "max     9.200000  95.000000"
      ]
     },
     "execution_count": 9,
     "metadata": {},
     "output_type": "execute_result"
    }
   ],
   "source": [
    "data.describe()"
   ]
  },
  {
   "cell_type": "code",
   "execution_count": 10,
   "id": "40e10cce",
   "metadata": {},
   "outputs": [
    {
     "data": {
      "text/plain": [
       "False"
      ]
     },
     "execution_count": 10,
     "metadata": {},
     "output_type": "execute_result"
    }
   ],
   "source": [
    "# Now we need to check if there are any missing values or null values in the data set\n",
    "data.isnull == True "
   ]
  },
  {
   "cell_type": "markdown",
   "id": "f4949e42",
   "metadata": {},
   "source": [
    "The output is false which confirms that there are no missing values in our data."
   ]
  },
  {
   "cell_type": "markdown",
   "id": "ad626ea3",
   "metadata": {},
   "source": [
    "## Data Plotting"
   ]
  },
  {
   "cell_type": "code",
   "execution_count": 11,
   "id": "79e307c3",
   "metadata": {},
   "outputs": [
    {
     "data": {
      "image/png": "[encoded data removed]",
      "text/plain": [
       "<Figure size 432x288 with 1 Axes>"
      ]
     },
     "metadata": {
      "needs_background": "light"
     },
     "output_type": "display_data"
    }
   ],
   "source": [
    "data.plot(x='Hours', y='Scores',style='o')\n",
    "plt.title('No. Of Hours vs Percentage Score')\n",
    "plt.xlabel('Study(Hours)')\n",
    "plt.ylabel('Score(Percentage)')\n",
    "plt.grid(True)\n",
    "plt.show()"
   ]
  },
  {
   "cell_type": "code",
   "execution_count": 12,
   "id": "e4f7709f",
   "metadata": {},
   "outputs": [
    {
     "data": {
      "image/png": "[encoded data removed]",
      "text/plain": [
       "<Figure size 432x288 with 1 Axes>"
      ]
     },
     "metadata": {
      "needs_background": "light"
     },
     "output_type": "display_data"
    }
   ],
   "source": [
    "sns.regplot(x=data[\"Hours\"], y=data[\"Scores\"])\n",
    "plt.title('No. Of Hours vs Percentage Score')\n",
    "plt.xlabel('Study(Hours)')\n",
    "plt.ylabel('Score(Percentage)')\n",
    "plt.grid(True)\n",
    "plt.show()"
   ]
  },
  {
   "cell_type": "markdown",
   "id": "b324ad82",
   "metadata": {},
   "source": [
    "We can infer from the above plot that there is a positive relationship between the number of hours studied and the score obtained by the student."
   ]
  },
  {
   "cell_type": "markdown",
   "id": "edec88ab",
   "metadata": {},
   "source": [
    "### Train test split model "
   ]
  },
  {
   "cell_type": "markdown",
   "id": "a0934684",
   "metadata": {},
   "source": [
    "The train-test split procedure is used to estimate the performance of machine learning algorithms when they are used to make predictions on data not used to train the model"
   ]
  },
  {
   "cell_type": "code",
   "execution_count": 14,
   "id": "f729b558",
   "metadata": {},
   "outputs": [],
   "source": [
    "# Dividing the data into the two variables\n",
    "\n",
    "X = data.iloc[:, :-1].values\n",
    "Y = data.iloc[:, 1].values"
   ]
  },
  {
   "cell_type": "code",
   "execution_count": 15,
   "id": "a73946f0",
   "metadata": {},
   "outputs": [],
   "source": [
    "# Train - Test Split\n",
    "from sklearn.model_selection import train_test_split  \n",
    "X_train, X_test, Y_train, Y_test = train_test_split(X, Y, test_size=0.2, random_state=0)"
   ]
  },
  {
   "cell_type": "markdown",
   "id": "9bc2fe02",
   "metadata": {},
   "source": [
    "## Training the Linear Regression model on the dataset"
   ]
  },
  {
   "cell_type": "code",
   "execution_count": 16,
   "id": "ac404047",
   "metadata": {},
   "outputs": [
    {
     "name": "stdout",
     "output_type": "stream",
     "text": [
      "The model is trained\n"
     ]
    }
   ],
   "source": [
    "from sklearn.linear_model import LinearRegression  \n",
    "regressor = LinearRegression()\n",
    "regressor.fit(X_train, Y_train)  \n",
    "# By this line of code, we are fitting the data into the model\n",
    "\n",
    "print(\"The model is trained\")"
   ]
  },
  {
   "cell_type": "markdown",
   "id": "99be49db",
   "metadata": {},
   "source": [
    "## Now we are predicting the values based on test data"
   ]
  },
  {
   "cell_type": "code",
   "execution_count": 17,
   "id": "ceff19a5",
   "metadata": {},
   "outputs": [
    {
     "name": "stdout",
     "output_type": "stream",
     "text": [
      "[[1.5]\n",
      " [3.2]\n",
      " [7.4]\n",
      " [2.5]\n",
      " [5.9]]\n"
     ]
    }
   ],
   "source": [
    "# test data of X\n",
    "print(X_test)"
   ]
  },
  {
   "cell_type": "code",
   "execution_count": 18,
   "id": "eab10407",
   "metadata": {},
   "outputs": [],
   "source": [
    "# We are predicting the percentage scores based on the X_test\n",
    "Y_pred = regressor.predict(X_test)"
   ]
  },
  {
   "cell_type": "code",
   "execution_count": 19,
   "id": "08df5d53",
   "metadata": {},
   "outputs": [
    {
     "data": {
      "text/html": [
       "<div>\n",
       "<style scoped>\n",
       "    .dataframe tbody tr th:only-of-type {\n",
       "        vertical-align: middle;\n",
       "    }\n",
       "\n",
       "    .dataframe tbody tr th {\n",
       "        vertical-align: top;\n",
       "    }\n",
       "\n",
       "    .dataframe thead th {\n",
       "        text-align: right;\n",
       "    }\n",
       "</style>\n",
       "<table border=\"1\" class=\"dataframe\">\n",
       "  <thead>\n",
       "    <tr style=\"text-align: right;\">\n",
       "      <th></th>\n",
       "      <th>Hours</th>\n",
       "      <th>Predicted Score</th>\n",
       "    </tr>\n",
       "  </thead>\n",
       "  <tbody>\n",
       "    <tr>\n",
       "      <th>0</th>\n",
       "      <td>1.5</td>\n",
       "      <td>16.884145</td>\n",
       "    </tr>\n",
       "    <tr>\n",
       "      <th>1</th>\n",
       "      <td>3.2</td>\n",
       "      <td>33.732261</td>\n",
       "    </tr>\n",
       "    <tr>\n",
       "      <th>2</th>\n",
       "      <td>7.4</td>\n",
       "      <td>75.357018</td>\n",
       "    </tr>\n",
       "    <tr>\n",
       "      <th>3</th>\n",
       "      <td>2.5</td>\n",
       "      <td>26.794801</td>\n",
       "    </tr>\n",
       "    <tr>\n",
       "      <th>4</th>\n",
       "      <td>5.9</td>\n",
       "      <td>60.491033</td>\n",
       "    </tr>\n",
       "  </tbody>\n",
       "</table>\n",
       "</div>"
      ],
      "text/plain": [
       "   Hours  Predicted Score\n",
       "0    1.5        16.884145\n",
       "1    3.2        33.732261\n",
       "2    7.4        75.357018\n",
       "3    2.5        26.794801\n",
       "4    5.9        60.491033"
      ]
     },
     "execution_count": 19,
     "metadata": {},
     "output_type": "execute_result"
    }
   ],
   "source": [
    "# We are creating a dataframe by taking the X_test data and the predicted values\n",
    "prediction = pd.DataFrame({\"Hours\": [i[0] for i in X_test], \"Predicted Score\":[k for k in Y_pred]})\n",
    "prediction"
   ]
  },
  {
   "cell_type": "markdown",
   "id": "4053d51f",
   "metadata": {},
   "source": [
    "## Comparison of Actual Vs Predicted"
   ]
  },
  {
   "cell_type": "code",
   "execution_count": 20,
   "id": "6cc518a5",
   "metadata": {},
   "outputs": [
    {
     "data": {
      "text/html": [
       "<div>\n",
       "<style scoped>\n",
       "    .dataframe tbody tr th:only-of-type {\n",
       "        vertical-align: middle;\n",
       "    }\n",
       "\n",
       "    .dataframe tbody tr th {\n",
       "        vertical-align: top;\n",
       "    }\n",
       "\n",
       "    .dataframe thead th {\n",
       "        text-align: right;\n",
       "    }\n",
       "</style>\n",
       "<table border=\"1\" class=\"dataframe\">\n",
       "  <thead>\n",
       "    <tr style=\"text-align: right;\">\n",
       "      <th></th>\n",
       "      <th>Actual</th>\n",
       "      <th>Predicted</th>\n",
       "    </tr>\n",
       "  </thead>\n",
       "  <tbody>\n",
       "    <tr>\n",
       "      <th>0</th>\n",
       "      <td>20</td>\n",
       "      <td>16.884145</td>\n",
       "    </tr>\n",
       "    <tr>\n",
       "      <th>1</th>\n",
       "      <td>27</td>\n",
       "      <td>33.732261</td>\n",
       "    </tr>\n",
       "    <tr>\n",
       "      <th>2</th>\n",
       "      <td>69</td>\n",
       "      <td>75.357018</td>\n",
       "    </tr>\n",
       "    <tr>\n",
       "      <th>3</th>\n",
       "      <td>30</td>\n",
       "      <td>26.794801</td>\n",
       "    </tr>\n",
       "    <tr>\n",
       "      <th>4</th>\n",
       "      <td>62</td>\n",
       "      <td>60.491033</td>\n",
       "    </tr>\n",
       "  </tbody>\n",
       "</table>\n",
       "</div>"
      ],
      "text/plain": [
       "   Actual  Predicted\n",
       "0      20  16.884145\n",
       "1      27  33.732261\n",
       "2      69  75.357018\n",
       "3      30  26.794801\n",
       "4      62  60.491033"
      ]
     },
     "execution_count": 20,
     "metadata": {},
     "output_type": "execute_result"
    }
   ],
   "source": [
    "# Let's do the comparison between the actual values and predicting values\n",
    "# for this, we are comparing the data of Y_test and predicted Y valu\n",
    "\n",
    "comparison = pd.DataFrame({\"Actual\" : Y_test, \"Predicted\": Y_pred})\n",
    "comparison"
   ]
  },
  {
   "cell_type": "code",
   "execution_count": 21,
   "id": "b38a1056",
   "metadata": {},
   "outputs": [
    {
     "data": {
      "image/png": "[encoded data removed]",
      "text/plain": [
       "<Figure size 432x288 with 1 Axes>"
      ]
     },
     "metadata": {
      "needs_background": "light"
     },
     "output_type": "display_data"
    }
   ],
   "source": [
    "# Let's now compare the same using plot\n",
    "plt.scatter(x=X_test, y=Y_test, color=\"blue\")\n",
    "plt.plot(X_test, Y_pred, color=\"black\")\n",
    "plt.title(\"Actual Vs Predicted\")\n",
    "plt.xlabel(\"Hours Studied\")\n",
    "plt.ylabel(\"Scores obtained\")\n",
    "plt.grid(True)\n",
    "plt.show()"
   ]
  },
  {
   "cell_type": "markdown",
   "id": "2d43511b",
   "metadata": {},
   "source": [
    "## To predict the score when student studies for 9.25 hours per day"
   ]
  },
  {
   "cell_type": "code",
   "execution_count": 22,
   "id": "ada28eee",
   "metadata": {},
   "outputs": [],
   "source": [
    "# We are giving our own data in X\n",
    "our_x = [9.25]\n",
    "our_pred = regressor.predict([our_x])"
   ]
  },
  {
   "cell_type": "code",
   "execution_count": 23,
   "id": "acb71395",
   "metadata": {},
   "outputs": [
    {
     "name": "stdout",
     "output_type": "stream",
     "text": [
      "No. of hours = [9.25]\n",
      "Percentage of score obtained = [93.69173249]\n"
     ]
    }
   ],
   "source": [
    "print(\"No. of hours = {}\".format(our_x))\n",
    "print(\"Percentage of score obtained = {}\".format(our_pred))"
   ]
  },
  {
   "cell_type": "markdown",
   "id": "a99f433e",
   "metadata": {},
   "source": [
    "## The predicted score when the student studies for 9.25 hours per day is 93.69%"
   ]
  },
  {
   "cell_type": "markdown",
   "id": "9d891f9f",
   "metadata": {},
   "source": [
    "### Performance metrics for evaluation"
   ]
  },
  {
   "cell_type": "markdown",
   "id": "c3e1957f",
   "metadata": {},
   "source": [
    "### R square test of the model"
   ]
  },
  {
   "cell_type": "markdown",
   "id": "ac4fb6a5",
   "metadata": {},
   "source": [
    "R square value is one of the performance metrics of the machine learning model. It is a statistical measure of how close the data is to the fitted regression line. It is also known as coefficient of determination.\n",
    "\n",
    "Higher the value of this test, the model performs better"
   ]
  },
  {
   "cell_type": "code",
   "execution_count": 25,
   "id": "0f72d17d",
   "metadata": {},
   "outputs": [
    {
     "name": "stdout",
     "output_type": "stream",
     "text": [
      "The R square value of the model is:  0.9454906892105356\n"
     ]
    }
   ],
   "source": [
    "from sklearn.metrics import r2_score\n",
    "print(\"The R square value of the model is: \", r2_score(Y_test, Y_pred))"
   ]
  },
  {
   "cell_type": "markdown",
   "id": "6f133dea",
   "metadata": {},
   "source": [
    "### R square value : 0.9454\n",
    "### The value is closer to the one\n",
    "### The model is performing very well"
   ]
  },
  {
   "cell_type": "code",
   "execution_count": null,
   "id": "d08d1b0b",
   "metadata": {},
   "outputs": [],
   "source": []
  }
 ],
 "metadata": {
  "kernelspec": {
   "display_name": "Python 3",
   "language": "python",
   "name": "python3"
  },
  "language_info": {
   "codemirror_mode": {
    "name": "ipython",
    "version": 3
   },
   "file_extension": ".py",
   "mimetype": "text/x-python",
   "name": "python",
   "nbconvert_exporter": "python",
   "pygments_lexer": "ipython3",
   "version": "3.8.8"
  }
 },
 "nbformat": 4,
 "nbformat_minor": 5
}
